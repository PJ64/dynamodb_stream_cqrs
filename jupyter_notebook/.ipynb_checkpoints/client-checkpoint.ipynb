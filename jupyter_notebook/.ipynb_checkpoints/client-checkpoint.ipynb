{
 "cells": [
  {
   "cell_type": "markdown",
   "metadata": {},
   "source": [
    "## Pass Order to API"
   ]
  },
  {
   "cell_type": "markdown",
   "metadata": {},
   "source": [
    "**Note:** Make sure you set your gateway id\n",
    "\n",
    "1. Execute post script to generate the 5 new records, wait about 5 seconds.\n",
    "\n",
    "2. Execute get script to retrieve a record\n",
    "\n",
    "3. Repeat the steps to see the *account_total* increasing \n",
    "\n",
    "Records are loaded into 2 DynamoDB tables. \n",
    "\n",
    "**dynamodb_stream_cqrs_order** - holds the details for the orders\n",
    "\n",
    "**dynamodb_stream_cqrs_account_summary** - holds the account summary\n"
   ]
  },
  {
   "cell_type": "code",
   "execution_count": null,
   "metadata": {},
   "outputs": [],
   "source": [
    "#Post script\n",
    "\n",
    "import json, boto3, requests, datetime\n",
    "from decimal import Decimal\n",
    "\n",
    "#Set gateway id\n",
    "gwid = ''\n",
    "    \n",
    "url = (f'https://{gwid}.execute-api.ap-southeast-2.amazonaws.com/prod/order')\n",
    "    \n",
    "for i in range(5):\n",
    "    y = i+1\n",
    "    x = \"id_\" + str(i) + str(datetime.datetime.now())\n",
    "    orderid = str(x)\n",
    "    accountid = 'p' + str(y)\n",
    "    vendorid = 'v' + str(y)\n",
    "    orderdate = str(x)\n",
    "    coffeetype = 'Short Black'\n",
    "    coffeesize = 'Small'\n",
    "    unitprice = '4.50'\n",
    "    quantity = y\n",
    "        \n",
    "    response = requests.post(url,json={'order':{\n",
    "                'orderid': orderid,\n",
    "                'accountid': accountid,\n",
    "                'vendorid': vendorid,\n",
    "                'orderdate':orderdate,\n",
    "                'details':{\n",
    "                    'coffeetype': coffeetype,\n",
    "                    'coffeesize': coffeesize,\n",
    "                    'unitprice': unitprice,\n",
    "                    'quantity': quantity\n",
    "                }\n",
    "            }\n",
    "        })\n",
    "    print(response)"
   ]
  },
  {
   "cell_type": "markdown",
   "metadata": {},
   "source": [
    "Query the account summary table"
   ]
  },
  {
   "cell_type": "code",
   "execution_count": null,
   "metadata": {},
   "outputs": [],
   "source": [
    "#Get Script\n",
    "\n",
    "url = (f'https://{gwid}.execute-api.ap-southeast-2.amazonaws.com/prod/summary')\n",
    "\n",
    "response_get = requests.get(url, params={'accountid':'p1'})\n",
    "\n",
    "print(response_get.json())"
   ]
  }
 ],
 "metadata": {
  "kernelspec": {
   "display_name": "Python 3",
   "language": "python",
   "name": "python3"
  },
  "language_info": {
   "codemirror_mode": {
    "name": "ipython",
    "version": 3
   },
   "file_extension": ".py",
   "mimetype": "text/x-python",
   "name": "python",
   "nbconvert_exporter": "python",
   "pygments_lexer": "ipython3",
   "version": "3.8.5"
  }
 },
 "nbformat": 4,
 "nbformat_minor": 4
}
