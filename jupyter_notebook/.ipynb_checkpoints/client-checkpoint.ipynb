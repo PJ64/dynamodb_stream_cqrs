{
 "cells": [
  {
   "cell_type": "markdown",
   "metadata": {},
   "source": [
    "## Introducing the CQRS Pattern\n",
    "\n",
    "CQRS is a Command Query Response Segregation pattern. This pattern separates read operations from update operations. The pattern is often used when read and update operations use a different data models. For example, the Account Details DynamoDB table would record each account transaction, while the Account Summary DynamoDB table would record a summary of transactions for each account. \n",
    "\n",
    "By using a CQRS pattern you would extract the records from the Account Details table, aggregate the records and write the records to the Account Summary table. An endpoint would be created for POST operations to write to the account details table while another endpoint would be used for GET operations to read from the account summary table.\n",
    "\n",
    "## The Scaling Challenge\n",
    "\n",
    "Pattern 1 uses a DynamoDB stream to invoke a Lambda function that aggregates account detail records, transforming the records into an account summary. The transformation function writes directly to the Account Summary DynamoDB table. This approach reduces latency; however, it does introduce a potential scaling problem. If the Account Detail DynamoDB table is configured to scale to a higher capacity, this will result in the DynamoDB stream scaling along with the lambda function. If the Account Summary table is not configured to scale, the transformation function will start to timeout and return errors.\n",
    "\n",
    "![architecture](../images/architecture_1.png \"Architecture\")\n",
    "\n",
    "## The solution\n",
    "\n",
    "Pattern 2 introduces an Amazon SQS queue to decouple the function from the table. This will allow the two parts of the pattern to scale independently. The Account Summary table does not need to scale along with the Account Details table to meet the capacity demands.\n",
    "\n",
    "![architecture](../images/architecture_2.png \"Architecture\")"
   ]
  },
  {
   "cell_type": "markdown",
   "metadata": {},
   "source": [
    "### Jupyter Notebook\n",
    "\n",
    "- This example uses 2 API Gateways, the gateway id needs to be set for both pattern examples.\n",
    "\n",
    "```gwid_pattern_1 = …```\n",
    "\n",
    "```gwid_pattern_2 = …```\n",
    "\n",
    "- Make sure you set **region** to your preferred region using `region = '...'`"
   ]
  },
  {
   "cell_type": "code",
   "execution_count": null,
   "metadata": {},
   "outputs": [],
   "source": [
    "#Set gateway id\n",
    "gwid_pattern_1 = '...'\n",
    "\n",
    "gwid_pattern_2 = '...'\n",
    "\n",
    "#Set your AWS region, e.g. ap-southeast-2\n",
    "region = '...' "
   ]
  },
  {
   "cell_type": "markdown",
   "metadata": {},
   "source": [
    "### json formatter\n",
    "\n",
    "Run the following script to create a class which will be used to render json objects in a readable format."
   ]
  },
  {
   "cell_type": "code",
   "execution_count": null,
   "metadata": {},
   "outputs": [],
   "source": [
    "import json, uuid\n",
    "from IPython.display import display_javascript, display_html, display\n",
    "\n",
    "class RenderJSON(object):\n",
    "    def __init__(self, json_data):\n",
    "        if isinstance(json_data, dict) or isinstance(json_data, list):\n",
    "            self.json_str = json.dumps(json_data)\n",
    "        else:\n",
    "            self.json_str = json_data\n",
    "        self.uuid = str(uuid.uuid4())\n",
    "\n",
    "    def _ipython_display_(self):\n",
    "        display_html('<div id=\"{}\" style=\"height: 600px; width:100%;font: 12px/18px monospace !important;\"></div>'.format(self.uuid), raw=True)\n",
    "        display_javascript(\"\"\"\n",
    "        require([\"https://rawgit.com/caldwell/renderjson/master/renderjson.js\"], function() {\n",
    "            renderjson.set_show_to_level(2);\n",
    "            document.getElementById('%s').appendChild(renderjson(%s))\n",
    "        });\n",
    "      \"\"\" % (self.uuid, self.json_str), raw=True)"
   ]
  },
  {
   "cell_type": "markdown",
   "metadata": {},
   "source": [
    "**Pattern 1**\n",
    "\n",
    "The script sends order records to the API Gateway. The gateway endpoint uses a mapping template to build a DynamoDB item object, then passes the object to the PutItem method as a parameter. DynamoDB will put the item into a stream which will invoke a Lambda function. The function will aggregate the order details and put a new item into the summary table. \n",
    "\n",
    "The range counter value determines the number of items sent to the API endpoint. As you increase the counter, the Account Details table will scale to meet capacity needs. By setting the counter to a value greater than 1000 will cause the Lambda function to scale beyond the capacity of the Summary Table."
   ]
  },
  {
   "cell_type": "code",
   "execution_count": null,
   "metadata": {},
   "outputs": [],
   "source": [
    "import boto3, requests, datetime\n",
    "from random import randrange\n",
    "\n",
    "city_list=[\"Adelaide\",\"Brisbane\",\"Canberra\",\"Darwin\",\"Geelong\",\"Gold Coast\",\"Hobart\",\"Melbourne\",\"Perth\",\"Sydney\",\"Wollongong\"]\n",
    "coffeetype_list=[\"Short Black\",\"Flat White\",\"Latte\",\"Long Black\"]\n",
    "coffeesize_list=[{\"size\":\"Small\",\"price\":3.5},{\"size\":\"Medium\",\"price\":4.0},{\"size\":\"Large\",\"price\":4.5},{\"size\":\"x-Large\",\"price\":5.0}]\n",
    "\n",
    "url = (f'https://{gwid_pattern_1}.execute-api.{region}.amazonaws.com/prod/order')\n",
    "\n",
    "for i in range(1000): #Range counter 1000+ will cause a scaling problem\n",
    "    accountid = 'a0'\n",
    "    vendorid = 'v' + str(i)\n",
    "    orderdate = str(datetime.datetime.now())\n",
    "    \n",
    "    #Original value-----------\n",
    "    coffeesize = randrange(4)\n",
    "    #-------------------------\n",
    "\n",
    "    quantity = randrange(10)+1\n",
    "    city = city_list[randrange(11)]\n",
    "    response = requests.post(url,json={'order':{\n",
    "            'accountid': accountid,\n",
    "            'orderdate':orderdate,\n",
    "            'vendorid': vendorid,\n",
    "            'city':city,            \n",
    "            'coffeetype': coffeetype_list[randrange(4)],\n",
    "            'coffeesize': coffeesize_list[coffeesize][\"size\"],\n",
    "            'unitprice': coffeesize_list[coffeesize][\"price\"],\n",
    "            'quantity': quantity\n",
    "    }})\n",
    "\n",
    "print(response)"
   ]
  },
  {
   "cell_type": "markdown",
   "metadata": {},
   "source": [
    "If you sent the range counter high enough, you will see an increase in error events. You can veiw these events using the Lambda insights in the CloudWatch dashboard. These errors are caused by Lambda reaching its timeout limit while waiting for the DynamoDB summary table, which is configured with restricted capacity.\n",
    "\n",
    "![cloudwatch](../images/cloudwatch.png \"cloudwatch\")"
   ]
  },
  {
   "cell_type": "markdown",
   "metadata": {},
   "source": [
    "<br/>\n",
    "The CloudWatch metrics dashboard for the DynamoDB Summary table will also confirm the tables burstable capacity has been consumed and the table is being throttled. The DynamoDB Summary table is not configured to scale to meet the capacity needs of the Lambda function. By decoupling the Lambda function from the table will resolve this issue.\n",
    "\n",
    "![dynamodb](../images/dynamodb.png \"dynamodb\")"
   ]
  },
  {
   "cell_type": "markdown",
   "metadata": {},
   "source": [
    "The following script returns an aggregation of all the orders for an account. Amazon API Gateway can interface directly with Amazon DynamoDB. By passing an items key value, the API can call GetItem without having to invoke a Lambda function."
   ]
  },
  {
   "cell_type": "code",
   "execution_count": null,
   "metadata": {},
   "outputs": [],
   "source": [
    "url_1 = (f'https://{gwid_pattern_1}.execute-api.{region}.amazonaws.com/prod/a0')\n",
    "response_get_1 = requests.get(url_1)\n",
    "RenderJSON(response_get_1.json())"
   ]
  },
  {
   "cell_type": "markdown",
   "metadata": {},
   "source": [
    "**Pattern 2**\n",
    "\n",
    "The script sends order records to the API Gateway. The gateway endpoint uses a mapping template to build a DynamoDB item object, then passes the object to the PutItem method as a parameter. DynamoDB will put the item into a stream which will invoke a Lambda function. The function will aggregate the order details and send the records to an Amazon SQS queue. By introducing a decoupling service like SQS, the transformation function can scale up and process the items in the DynamoDB stream without being restricted by the capacity on the destination table\n"
   ]
  },
  {
   "cell_type": "code",
   "execution_count": null,
   "metadata": {},
   "outputs": [],
   "source": [
    "import boto3, requests, datetime\n",
    "from random import randrange\n",
    "\n",
    "city_list=[\"Adelaide\",\"Brisbane\",\"Canberra\",\"Darwin\",\"Geelong\",\"Gold Coast\",\"Hobart\",\"Melbourne\",\"Perth\",\"Sydney\",\"Wollongong\"]\n",
    "coffeetype_list=[\"Short Black\",\"Flat White\",\"Latte\",\"Long Black\"]\n",
    "coffeesize_list=[{\"size\":\"Small\",\"price\":3.5},{\"size\":\"Medium\",\"price\":4.0},{\"size\":\"Large\",\"price\":4.5},{\"size\":\"x-Large\",\"price\":5.0}]\n",
    "\n",
    "url = (f'https://{gwid_pattern_2}.execute-api.{region}.amazonaws.com/prod/order')\n",
    "\n",
    "for i in range(5000): \n",
    "    accountid = 'a0'\n",
    "    vendorid = 'v' + str(i)\n",
    "    orderdate = str(datetime.datetime.now())\n",
    "    \n",
    "    #Original value-----------\n",
    "    coffeesize = randrange(4)\n",
    "    #-------------------------\n",
    "\n",
    "    quantity = randrange(10)+1\n",
    "    city = city_list[randrange(11)]\n",
    "    response = requests.post(url,json={'order':{\n",
    "            'accountid': accountid,\n",
    "            'orderdate':orderdate,\n",
    "            'vendorid': vendorid,\n",
    "            'city':city,            \n",
    "            'coffeetype': coffeetype_list[randrange(4)],\n",
    "            'coffeesize': coffeesize_list[coffeesize][\"size\"],\n",
    "            'unitprice': coffeesize_list[coffeesize][\"price\"],\n",
    "            'quantity': quantity\n",
    "    }})\n",
    "\n",
    "print(response)"
   ]
  },
  {
   "cell_type": "markdown",
   "metadata": {},
   "source": [
    "The following script returns an aggregation of all the orders for an account. Amazon API Gateway can interface directly with Amazon DynamoDB. By passing an items key value, the API can call GetItem without having to invoke a Lambda function."
   ]
  },
  {
   "cell_type": "code",
   "execution_count": null,
   "metadata": {},
   "outputs": [],
   "source": [
    "url_2 = (f'https://{gwid_pattern_2}.execute-api.{region}.amazonaws.com/prod/a0')\n",
    "response_get_2 = requests.get(url_2)\n",
    "RenderJSON(response_get_2.json())"
   ]
  }
 ],
 "metadata": {
  "kernelspec": {
   "display_name": "Python 3 (ipykernel)",
   "language": "python",
   "name": "python3"
  },
  "language_info": {
   "codemirror_mode": {
    "name": "ipython",
    "version": 3
   },
   "file_extension": ".py",
   "mimetype": "text/x-python",
   "name": "python",
   "nbconvert_exporter": "python",
   "pygments_lexer": "ipython3",
   "version": "3.8.12"
  }
 },
 "nbformat": 4,
 "nbformat_minor": 4
}
